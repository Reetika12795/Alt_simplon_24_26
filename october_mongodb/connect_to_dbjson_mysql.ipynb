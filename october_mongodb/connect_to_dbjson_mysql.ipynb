{
 "cells": [
  {
   "cell_type": "code",
   "execution_count": 12,
   "metadata": {},
   "outputs": [],
   "source": [
    "import pandas as pd\n",
    "from sqlalchemy import create_engine, MetaData, Table, Column, String, Integer, Date, ForeignKey"
   ]
  },
  {
   "cell_type": "code",
   "execution_count": 13,
   "metadata": {},
   "outputs": [],
   "source": [
    "from sqlalchemy import URL\n",
    "from sqlalchemy import create_engine\n",
    "from sqlalchemy import MetaData\n",
    "from sqlalchemy import create_engine, text\n",
    "\n",
    "# Create a MetaData instance\n",
    "metadata = MetaData()\n",
    "\n",
    "url_object = URL.create(\n",
    "    \"mysql+pymysql\",\n",
    "    username=\"root\",\n",
    "    password=\"Ranjeeta1@\",  # plain (unescaped) text\n",
    "    host=\"localhost\",\n",
    "    database=\"sales_data_json_new\",\n",
    ")\n",
    "\n",
    "\n",
    "# Create a metadata object\n",
    "metadata = MetaData()\n",
    "\n",
    "engine = create_engine(url_object)"
   ]
  },
  {
   "cell_type": "code",
   "execution_count": 14,
   "metadata": {},
   "outputs": [
    {
     "name": "stdout",
     "output_type": "stream",
     "text": [
      "[('information_schema',), ('mysql',), ('performance_schema',), ('sales_data',), ('sales_data_json',), ('sales_data_json_new',), ('sys',)]\n"
     ]
    }
   ],
   "source": [
    "# Now connect to create the database if it doesn't exist\n",
    "with engine.connect() as conn:\n",
    "    # Create the database if it doesn't exist\n",
    "    conn.execute(text(\"CREATE DATABASE IF NOT EXISTS sales_data_json_new;\"))\n",
    "    \n",
    "    # Optionally, connect to the newly created database\n",
    "    conn.execute(text(\"USE sales_data_json_new;\"))\n",
    "    \n",
    "    # Show all databases to confirm creation\n",
    "    result = conn.execute(text(\"SHOW DATABASES;\"))\n",
    "    print(result.fetchall())\n",
    "\n",
    "# Now you can create tables in the new database as needed"
   ]
  },
  {
   "cell_type": "code",
   "execution_count": 15,
   "metadata": {},
   "outputs": [],
   "source": [
    "# from sqlalchemy import URL\n",
    "# from sqlalchemy import create_engine, MetaData, text\n",
    "\n",
    "# # Create a URL object without specifying the database\n",
    "# url_object = URL.create(\n",
    "#     \"mysql+pymysql\",\n",
    "#     username=\"root\",\n",
    "#     password=\"Ranjeeta1@\",  # Use plain text\n",
    "#     host=\"localhost\",\n",
    "# )\n",
    "\n",
    "# # Create a metadata object\n",
    "# metadata = MetaData()\n",
    "\n",
    "# # Create the engine without the database\n",
    "# engine = create_engine(url_object)\n",
    "\n",
    "# # Now connect to create the database if it doesn't exist\n",
    "# with engine.connect() as conn:\n",
    "#     # Create the database if it doesn't exist\n",
    "#     conn.execute(text(\"CREATE DATABASE IF NOT EXISTS sales_data_json_new;\"))\n",
    "    \n",
    "#     # Optionally, connect to the newly created database\n",
    "#     conn.execute(text(\"USE sales_data_json_new;\"))\n",
    "    \n",
    "#     # Show all databases to confirm creation\n",
    "#     result = conn.execute(text(\"SHOW DATABASES;\"))\n",
    "#     print(result.fetchall())\n",
    "\n",
    "# # Now you can create tables in the new database as needed\n"
   ]
  },
  {
   "cell_type": "code",
   "execution_count": 16,
   "metadata": {},
   "outputs": [],
   "source": [
    "# Bind metadata to the engine\n",
    "metadata = MetaData()\n",
    "\n",
    "# Define tables\n",
    "product = Table('Product', metadata,\n",
    "    Column('product_id', String(100), primary_key=True),\n",
    "    Column('category', String(100)),\n",
    "    Column('sub_category_encoded', String(100))\n",
    ")\n",
    "\n",
    "client = Table('Client', metadata,\n",
    "    Column('client_id', String(100), primary_key=True),\n",
    "    Column('birth', Date),\n",
    "    Column('sex', String(1)),\n",
    ")\n",
    "\n",
    "sale = Table('Sale', metadata,\n",
    "    Column('sale_id', Integer, primary_key=True, autoincrement=True),  # Adding an auto-incrementing ID\n",
    "    Column('product_id', String(100), ForeignKey('Product.product_id')),\n",
    "    Column('client_id', String(100), ForeignKey('Client.client_id')),\n",
    "    Column('quantity_sold', Integer),\n",
    "    Column('sale_date', Date)\n",
    ")\n",
    "\n",
    "# Create tables in the database by explicitly passing the engine\n",
    "metadata.create_all(engine)"
   ]
  },
  {
   "cell_type": "code",
   "execution_count": 17,
   "metadata": {},
   "outputs": [
    {
     "name": "stdout",
     "output_type": "stream",
     "text": [
      "Connected to database: sales_data_json_new\n"
     ]
    }
   ],
   "source": [
    "# Ensure the connection is correct\n",
    "with engine.connect() as conn:\n",
    "    result = conn.execute(text(\"SELECT DATABASE();\"))\n",
    "    print(f\"Connected to database: {result.fetchone()[0]}\")  # Should be 'sales_data_json'"
   ]
  },
  {
   "cell_type": "markdown",
   "metadata": {},
   "source": [
    "### to check for all existing tables"
   ]
  },
  {
   "cell_type": "code",
   "execution_count": 18,
   "metadata": {},
   "outputs": [
    {
     "name": "stdout",
     "output_type": "stream",
     "text": [
      "Tables in database: ['client', 'product', 'sale']\n",
      "\n",
      "Structure of table 'client':\n",
      "client_id - VARCHAR(100)\n",
      "birth - DATE\n",
      "sex - VARCHAR(1)\n",
      "\n",
      "Structure of table 'product':\n",
      "product_id - VARCHAR(100)\n",
      "category - VARCHAR(100)\n",
      "sub_category_encoded - VARCHAR(100)\n",
      "\n",
      "Structure of table 'sale':\n",
      "sale_id - INTEGER\n",
      "product_id - VARCHAR(100)\n",
      "client_id - VARCHAR(100)\n",
      "quantity_sold - INTEGER\n",
      "sale_date - DATE\n"
     ]
    }
   ],
   "source": [
    "from sqlalchemy import inspect\n",
    "\n",
    "inspector = inspect(engine)\n",
    "\n",
    "# Get list of tables\n",
    "tables = inspector.get_table_names()\n",
    "print(\"Tables in database:\", tables)\n",
    "\n",
    "# Get details of a specific table\n",
    "for table in tables:\n",
    "    print(f\"\\nStructure of table '{table}':\")\n",
    "    columns = inspector.get_columns(table)\n",
    "    for column in columns:\n",
    "        print(f\"{column['name']} - {column['type']}\")"
   ]
  },
  {
   "cell_type": "code",
   "execution_count": 19,
   "metadata": {},
   "outputs": [],
   "source": [
    "clients_df = pd.read_json('data-json/clients.json')\n",
    "produits_df = pd.read_json('data-json/produits_sous-categorie.json')\n",
    "ventes_df = pd.read_json('data-json/ventes.json')"
   ]
  },
  {
   "cell_type": "code",
   "execution_count": 21,
   "metadata": {},
   "outputs": [],
   "source": [
    "# Insert data into tables\n",
    "with engine.connect() as connection:\n",
    "    # Insert products\n",
    "    for _, row in produits_df.iterrows():\n",
    "        ins = product.insert().prefix_with(\"IGNORE\").values(\n",
    "            product_id=row['product_id'],\n",
    "            category=row['category'],\n",
    "            sub_category_encoded=row['sub_category']\n",
    "        )\n",
    "        connection.execute(ins)\n",
    "\n",
    "    # Insert clients\n",
    "    for _, row in clients_df.iterrows():\n",
    "        ins = client.insert().prefix_with(\"IGNORE\").values(\n",
    "            client_id=row['client_id'],\n",
    "            birth=pd.to_datetime(row['birth']).date(),\n",
    "            sex=row['sex'],\n",
    "            # sex_numeric=row['sex_numeric']\n",
    "        )\n",
    "        connection.execute(ins)\n",
    "\n",
    "    # Insert sales\n",
    "    for _, row in sales_df.iterrows():\n",
    "        ins = sale.insert().values(\n",
    "            sale_id=row['sale_id'],\n",
    "            product_id=row['product_id'],\n",
    "            client_id=row['client_id'],\n",
    "            quantity_sold=row['quantity_sold'],\n",
    "            sale_date=pd.to_datetime(row['date']).date()\n",
    "        )\n",
    "        connection.execute(ins)\n",
    "\n",
    "    print(\"Data insertion completed successfully!\")\n",
    "\n",
    "    # Verify data insertiona\n",
    "    print(\"\\nSample Products:\")\n",
    "    result = connection.execute(product.select().limit(5))\n",
    "    for row in result:\n",
    "        print(row)\n",
    "\n",
    "    print(\"\\nSample Clients:\")\n",
    "    result = connection.execute(client.select().limit(5))\n",
    "    for row in result:\n",
    "        print(row)\n",
    "\n",
    "    print(\"\\nSample Sales:\")\n",
    "    result = connection.execute(sale.select().limit(5))\n",
    "    for row in result:\n",
    "        print(row)"
   ]
  },
  {
   "cell_type": "code",
   "execution_count": null,
   "metadata": {},
   "outputs": [],
   "source": []
  }
 ],
 "metadata": {
  "kernelspec": {
   "display_name": "base",
   "language": "python",
   "name": "python3"
  },
  "language_info": {
   "codemirror_mode": {
    "name": "ipython",
    "version": 3
   },
   "file_extension": ".py",
   "mimetype": "text/x-python",
   "name": "python",
   "nbconvert_exporter": "python",
   "pygments_lexer": "ipython3",
   "version": "3.12.4"
  }
 },
 "nbformat": 4,
 "nbformat_minor": 2
}
